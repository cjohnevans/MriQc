{
 "cells": [
  {
   "cell_type": "code",
   "execution_count": 1,
   "id": "b8e9ebd7",
   "metadata": {},
   "outputs": [],
   "source": [
    "import pandas as pd\n",
    "import matplotlib.pyplot as plt\n",
    "import datetime as dt"
   ]
  },
  {
   "cell_type": "code",
   "execution_count": 2,
   "id": "46b07a6b",
   "metadata": {},
   "outputs": [],
   "source": [
    "logfile = '/cubric/scanners/mri/7t/magnet_logs/022771data_latest.txt'"
   ]
  },
  {
   "cell_type": "code",
   "execution_count": 3,
   "id": "d305c1ac",
   "metadata": {},
   "outputs": [],
   "source": [
    "log7t = pd.read_csv(logfile, delimiter='\\t')\n",
    "log7t = log7t[log7t['Pressure (mB)']!=0]"
   ]
  },
  {
   "cell_type": "code",
   "execution_count": 25,
   "id": "5fff25cf",
   "metadata": {},
   "outputs": [
    {
     "data": {
      "text/plain": [
       "count    8241.000000\n",
       "mean       44.849796\n",
       "std        13.442551\n",
       "min        24.270000\n",
       "25%        40.600000\n",
       "50%        41.370000\n",
       "75%        42.810000\n",
       "max        99.000000\n",
       "Name: Patient Coldhead 1st Stage Temp 5AB (K), dtype: float64"
      ]
     },
     "execution_count": 25,
     "metadata": {},
     "output_type": "execute_result"
    }
   ],
   "source": [
    "log7t['Patient Coldhead 1st Stage Temp 5AB (K)'].describe()"
   ]
  },
  {
   "cell_type": "code",
   "execution_count": 29,
   "id": "a13ef52f",
   "metadata": {},
   "outputs": [
    {
     "data": {
      "text/plain": [
       "count    8241.000000\n",
       "mean        6.516949\n",
       "std         9.453404\n",
       "min         4.260000\n",
       "25%         4.260000\n",
       "50%         4.260000\n",
       "75%         4.260000\n",
       "max        99.000000\n",
       "Name: Service Coldhead 1st Stage Temp 6AB (K), dtype: float64"
      ]
     },
     "execution_count": 29,
     "metadata": {},
     "output_type": "execute_result"
    }
   ],
   "source": [
    "log7t['Service Coldhead 1st Stage Temp 6AB (K)'].describe()"
   ]
  },
  {
   "cell_type": "code",
   "execution_count": 5,
   "id": "79ca99d8",
   "metadata": {},
   "outputs": [
    {
     "data": {
      "text/html": [
       "<div>\n",
       "<style scoped>\n",
       "    .dataframe tbody tr th:only-of-type {\n",
       "        vertical-align: middle;\n",
       "    }\n",
       "\n",
       "    .dataframe tbody tr th {\n",
       "        vertical-align: top;\n",
       "    }\n",
       "\n",
       "    .dataframe thead th {\n",
       "        text-align: right;\n",
       "    }\n",
       "</style>\n",
       "<table border=\"1\" class=\"dataframe\">\n",
       "  <thead>\n",
       "    <tr style=\"text-align: right;\">\n",
       "      <th></th>\n",
       "      <th>Date &amp; time</th>\n",
       "      <th>Helium Level (ltr)</th>\n",
       "      <th>Patient Cryocooler Status (H)</th>\n",
       "      <th>Pressure (mB)</th>\n",
       "      <th>Service Shield Link Top Temp 4ABb (K)</th>\n",
       "      <th>Service Recondensor Temp 11CX (K)</th>\n",
       "      <th>Service Coldhead 1st Stage Temp 6AB (K)</th>\n",
       "      <th>Service 1st Stage Temp 11AB (K)</th>\n",
       "      <th>Service Shield Link Bottom Temp 4AB (K)</th>\n",
       "      <th>Service Outer Tube Bottom Temp 2ABb (K)</th>\n",
       "      <th>...</th>\n",
       "      <th>Patient Shield Link Bottom Temp 3AB (K)</th>\n",
       "      <th>Patient Helium Can Bottom Temp 1ABb (K)</th>\n",
       "      <th>Patient Neck Plate Temp 7AB (K)</th>\n",
       "      <th>Patient Endplate Temp 1AB (K)</th>\n",
       "      <th>Service Cryocooler Status (I)</th>\n",
       "      <th>Patient Cryocooler Status (F)</th>\n",
       "      <th>Patient Cryocooler Status (G)</th>\n",
       "      <th>Heater Ratio (%)</th>\n",
       "      <th>Burst Disk</th>\n",
       "      <th>EDU Monitor Status</th>\n",
       "    </tr>\n",
       "  </thead>\n",
       "  <tbody>\n",
       "    <tr>\n",
       "      <th>8496</th>\n",
       "      <td>18/12/22 16:57:27</td>\n",
       "      <td>2654</td>\n",
       "      <td>32</td>\n",
       "      <td>1040</td>\n",
       "      <td>81.38</td>\n",
       "      <td>4.21</td>\n",
       "      <td>4.26</td>\n",
       "      <td>30.95</td>\n",
       "      <td>99.0</td>\n",
       "      <td>62.70</td>\n",
       "      <td>...</td>\n",
       "      <td>99.0</td>\n",
       "      <td>62.35</td>\n",
       "      <td>99.0</td>\n",
       "      <td>63.42</td>\n",
       "      <td>0</td>\n",
       "      <td>32</td>\n",
       "      <td>70</td>\n",
       "      <td>19</td>\n",
       "      <td>0</td>\n",
       "      <td>0</td>\n",
       "    </tr>\n",
       "    <tr>\n",
       "      <th>8497</th>\n",
       "      <td>18/12/22 20:57:27</td>\n",
       "      <td>2654</td>\n",
       "      <td>32</td>\n",
       "      <td>1040</td>\n",
       "      <td>81.82</td>\n",
       "      <td>4.14</td>\n",
       "      <td>4.26</td>\n",
       "      <td>30.97</td>\n",
       "      <td>99.0</td>\n",
       "      <td>62.91</td>\n",
       "      <td>...</td>\n",
       "      <td>99.0</td>\n",
       "      <td>62.20</td>\n",
       "      <td>99.0</td>\n",
       "      <td>63.05</td>\n",
       "      <td>0</td>\n",
       "      <td>32</td>\n",
       "      <td>70</td>\n",
       "      <td>19</td>\n",
       "      <td>0</td>\n",
       "      <td>0</td>\n",
       "    </tr>\n",
       "    <tr>\n",
       "      <th>8498</th>\n",
       "      <td>19/12/22 00:57:27</td>\n",
       "      <td>2654</td>\n",
       "      <td>32</td>\n",
       "      <td>1040</td>\n",
       "      <td>82.66</td>\n",
       "      <td>4.02</td>\n",
       "      <td>4.26</td>\n",
       "      <td>30.96</td>\n",
       "      <td>99.0</td>\n",
       "      <td>62.76</td>\n",
       "      <td>...</td>\n",
       "      <td>99.0</td>\n",
       "      <td>61.86</td>\n",
       "      <td>99.0</td>\n",
       "      <td>63.46</td>\n",
       "      <td>0</td>\n",
       "      <td>32</td>\n",
       "      <td>70</td>\n",
       "      <td>19</td>\n",
       "      <td>0</td>\n",
       "      <td>0</td>\n",
       "    </tr>\n",
       "    <tr>\n",
       "      <th>8499</th>\n",
       "      <td>19/12/22 04:57:27</td>\n",
       "      <td>2654</td>\n",
       "      <td>32</td>\n",
       "      <td>1040</td>\n",
       "      <td>82.51</td>\n",
       "      <td>4.39</td>\n",
       "      <td>4.26</td>\n",
       "      <td>30.69</td>\n",
       "      <td>99.0</td>\n",
       "      <td>62.76</td>\n",
       "      <td>...</td>\n",
       "      <td>99.0</td>\n",
       "      <td>61.88</td>\n",
       "      <td>99.0</td>\n",
       "      <td>63.48</td>\n",
       "      <td>0</td>\n",
       "      <td>32</td>\n",
       "      <td>70</td>\n",
       "      <td>18</td>\n",
       "      <td>0</td>\n",
       "      <td>0</td>\n",
       "    </tr>\n",
       "    <tr>\n",
       "      <th>8500</th>\n",
       "      <td>19/12/22 08:57:27</td>\n",
       "      <td>2654</td>\n",
       "      <td>32</td>\n",
       "      <td>1040</td>\n",
       "      <td>82.66</td>\n",
       "      <td>4.30</td>\n",
       "      <td>4.26</td>\n",
       "      <td>30.96</td>\n",
       "      <td>99.0</td>\n",
       "      <td>63.22</td>\n",
       "      <td>...</td>\n",
       "      <td>99.0</td>\n",
       "      <td>61.90</td>\n",
       "      <td>99.0</td>\n",
       "      <td>63.46</td>\n",
       "      <td>0</td>\n",
       "      <td>32</td>\n",
       "      <td>70</td>\n",
       "      <td>17</td>\n",
       "      <td>0</td>\n",
       "      <td>0</td>\n",
       "    </tr>\n",
       "  </tbody>\n",
       "</table>\n",
       "<p>5 rows × 26 columns</p>\n",
       "</div>"
      ],
      "text/plain": [
       "            Date & time  Helium Level (ltr)  Patient Cryocooler Status (H)  \\\n",
       "8496  18/12/22 16:57:27                2654                             32   \n",
       "8497  18/12/22 20:57:27                2654                             32   \n",
       "8498  19/12/22 00:57:27                2654                             32   \n",
       "8499  19/12/22 04:57:27                2654                             32   \n",
       "8500  19/12/22 08:57:27                2654                             32   \n",
       "\n",
       "      Pressure (mB)  Service Shield Link Top Temp 4ABb (K)  \\\n",
       "8496           1040                                  81.38   \n",
       "8497           1040                                  81.82   \n",
       "8498           1040                                  82.66   \n",
       "8499           1040                                  82.51   \n",
       "8500           1040                                  82.66   \n",
       "\n",
       "      Service Recondensor Temp 11CX (K)  \\\n",
       "8496                               4.21   \n",
       "8497                               4.14   \n",
       "8498                               4.02   \n",
       "8499                               4.39   \n",
       "8500                               4.30   \n",
       "\n",
       "      Service Coldhead 1st Stage Temp 6AB (K)  \\\n",
       "8496                                     4.26   \n",
       "8497                                     4.26   \n",
       "8498                                     4.26   \n",
       "8499                                     4.26   \n",
       "8500                                     4.26   \n",
       "\n",
       "      Service 1st Stage Temp 11AB (K)  \\\n",
       "8496                            30.95   \n",
       "8497                            30.97   \n",
       "8498                            30.96   \n",
       "8499                            30.69   \n",
       "8500                            30.96   \n",
       "\n",
       "      Service Shield Link Bottom Temp 4AB (K)  \\\n",
       "8496                                     99.0   \n",
       "8497                                     99.0   \n",
       "8498                                     99.0   \n",
       "8499                                     99.0   \n",
       "8500                                     99.0   \n",
       "\n",
       "      Service Outer Tube Bottom Temp 2ABb (K)  ...  \\\n",
       "8496                                    62.70  ...   \n",
       "8497                                    62.91  ...   \n",
       "8498                                    62.76  ...   \n",
       "8499                                    62.76  ...   \n",
       "8500                                    63.22  ...   \n",
       "\n",
       "      Patient Shield Link Bottom Temp 3AB (K)  \\\n",
       "8496                                     99.0   \n",
       "8497                                     99.0   \n",
       "8498                                     99.0   \n",
       "8499                                     99.0   \n",
       "8500                                     99.0   \n",
       "\n",
       "      Patient Helium Can Bottom Temp 1ABb (K)  \\\n",
       "8496                                    62.35   \n",
       "8497                                    62.20   \n",
       "8498                                    61.86   \n",
       "8499                                    61.88   \n",
       "8500                                    61.90   \n",
       "\n",
       "      Patient Neck Plate Temp 7AB (K)  Patient Endplate Temp 1AB (K)  \\\n",
       "8496                             99.0                          63.42   \n",
       "8497                             99.0                          63.05   \n",
       "8498                             99.0                          63.46   \n",
       "8499                             99.0                          63.48   \n",
       "8500                             99.0                          63.46   \n",
       "\n",
       "      Service Cryocooler Status (I)  Patient Cryocooler Status (F)  \\\n",
       "8496                              0                             32   \n",
       "8497                              0                             32   \n",
       "8498                              0                             32   \n",
       "8499                              0                             32   \n",
       "8500                              0                             32   \n",
       "\n",
       "      Patient Cryocooler Status (G)  Heater Ratio (%)  Burst Disk  \\\n",
       "8496                             70                19           0   \n",
       "8497                             70                19           0   \n",
       "8498                             70                19           0   \n",
       "8499                             70                18           0   \n",
       "8500                             70                17           0   \n",
       "\n",
       "      EDU Monitor Status  \n",
       "8496                   0  \n",
       "8497                   0  \n",
       "8498                   0  \n",
       "8499                   0  \n",
       "8500                   0  \n",
       "\n",
       "[5 rows x 26 columns]"
      ]
     },
     "execution_count": 5,
     "metadata": {},
     "output_type": "execute_result"
    }
   ],
   "source": [
    "log7t.tail()"
   ]
  },
  {
   "cell_type": "code",
   "execution_count": 6,
   "id": "2650ea62",
   "metadata": {},
   "outputs": [
    {
     "data": {
      "text/html": [
       "<div>\n",
       "<style scoped>\n",
       "    .dataframe tbody tr th:only-of-type {\n",
       "        vertical-align: middle;\n",
       "    }\n",
       "\n",
       "    .dataframe tbody tr th {\n",
       "        vertical-align: top;\n",
       "    }\n",
       "\n",
       "    .dataframe thead th {\n",
       "        text-align: right;\n",
       "    }\n",
       "</style>\n",
       "<table border=\"1\" class=\"dataframe\">\n",
       "  <thead>\n",
       "    <tr style=\"text-align: right;\">\n",
       "      <th></th>\n",
       "      <th>0</th>\n",
       "      <th>1</th>\n",
       "      <th>2</th>\n",
       "      <th>3</th>\n",
       "      <th>4</th>\n",
       "      <th>5</th>\n",
       "    </tr>\n",
       "  </thead>\n",
       "  <tbody>\n",
       "    <tr>\n",
       "      <th>23</th>\n",
       "      <td>02</td>\n",
       "      <td>05</td>\n",
       "      <td>15</td>\n",
       "      <td>08</td>\n",
       "      <td>44</td>\n",
       "      <td>19</td>\n",
       "    </tr>\n",
       "    <tr>\n",
       "      <th>24</th>\n",
       "      <td>03</td>\n",
       "      <td>05</td>\n",
       "      <td>15</td>\n",
       "      <td>08</td>\n",
       "      <td>44</td>\n",
       "      <td>19</td>\n",
       "    </tr>\n",
       "    <tr>\n",
       "      <th>25</th>\n",
       "      <td>04</td>\n",
       "      <td>05</td>\n",
       "      <td>15</td>\n",
       "      <td>08</td>\n",
       "      <td>44</td>\n",
       "      <td>19</td>\n",
       "    </tr>\n",
       "    <tr>\n",
       "      <th>26</th>\n",
       "      <td>05</td>\n",
       "      <td>05</td>\n",
       "      <td>15</td>\n",
       "      <td>08</td>\n",
       "      <td>44</td>\n",
       "      <td>19</td>\n",
       "    </tr>\n",
       "    <tr>\n",
       "      <th>28</th>\n",
       "      <td>07</td>\n",
       "      <td>05</td>\n",
       "      <td>15</td>\n",
       "      <td>08</td>\n",
       "      <td>30</td>\n",
       "      <td>01</td>\n",
       "    </tr>\n",
       "    <tr>\n",
       "      <th>...</th>\n",
       "      <td>...</td>\n",
       "      <td>...</td>\n",
       "      <td>...</td>\n",
       "      <td>...</td>\n",
       "      <td>...</td>\n",
       "      <td>...</td>\n",
       "    </tr>\n",
       "    <tr>\n",
       "      <th>8496</th>\n",
       "      <td>18</td>\n",
       "      <td>12</td>\n",
       "      <td>22</td>\n",
       "      <td>16</td>\n",
       "      <td>57</td>\n",
       "      <td>27</td>\n",
       "    </tr>\n",
       "    <tr>\n",
       "      <th>8497</th>\n",
       "      <td>18</td>\n",
       "      <td>12</td>\n",
       "      <td>22</td>\n",
       "      <td>20</td>\n",
       "      <td>57</td>\n",
       "      <td>27</td>\n",
       "    </tr>\n",
       "    <tr>\n",
       "      <th>8498</th>\n",
       "      <td>19</td>\n",
       "      <td>12</td>\n",
       "      <td>22</td>\n",
       "      <td>00</td>\n",
       "      <td>57</td>\n",
       "      <td>27</td>\n",
       "    </tr>\n",
       "    <tr>\n",
       "      <th>8499</th>\n",
       "      <td>19</td>\n",
       "      <td>12</td>\n",
       "      <td>22</td>\n",
       "      <td>04</td>\n",
       "      <td>57</td>\n",
       "      <td>27</td>\n",
       "    </tr>\n",
       "    <tr>\n",
       "      <th>8500</th>\n",
       "      <td>19</td>\n",
       "      <td>12</td>\n",
       "      <td>22</td>\n",
       "      <td>08</td>\n",
       "      <td>57</td>\n",
       "      <td>27</td>\n",
       "    </tr>\n",
       "  </tbody>\n",
       "</table>\n",
       "<p>8241 rows × 6 columns</p>\n",
       "</div>"
      ],
      "text/plain": [
       "       0   1   2   3   4   5\n",
       "23    02  05  15  08  44  19\n",
       "24    03  05  15  08  44  19\n",
       "25    04  05  15  08  44  19\n",
       "26    05  05  15  08  44  19\n",
       "28    07  05  15  08  30  01\n",
       "...   ..  ..  ..  ..  ..  ..\n",
       "8496  18  12  22  16  57  27\n",
       "8497  18  12  22  20  57  27\n",
       "8498  19  12  22  00  57  27\n",
       "8499  19  12  22  04  57  27\n",
       "8500  19  12  22  08  57  27\n",
       "\n",
       "[8241 rows x 6 columns]"
      ]
     },
     "execution_count": 6,
     "metadata": {},
     "output_type": "execute_result"
    }
   ],
   "source": [
    "meas_time = log7t['Date & time'].str.split('/|:| ', regex=True, expand=True)\n",
    "meas_time"
   ]
  },
  {
   "cell_type": "code",
   "execution_count": 7,
   "id": "ac856ca1",
   "metadata": {},
   "outputs": [
    {
     "data": {
      "text/plain": [
       "23      02\n",
       "24      03\n",
       "25      04\n",
       "26      05\n",
       "28      07\n",
       "        ..\n",
       "8496    18\n",
       "8497    18\n",
       "8498    19\n",
       "8499    19\n",
       "8500    19\n",
       "Name: 0, Length: 8241, dtype: object"
      ]
     },
     "execution_count": 7,
     "metadata": {},
     "output_type": "execute_result"
    }
   ],
   "source": [
    "meas_time[0]"
   ]
  },
  {
   "cell_type": "code",
   "execution_count": 8,
   "id": "e9e970d2",
   "metadata": {},
   "outputs": [
    {
     "ename": "TypeError",
     "evalue": "cannot convert the series to <class 'int'>",
     "output_type": "error",
     "traceback": [
      "\u001b[0;31m---------------------------------------------------------------------------\u001b[0m",
      "\u001b[0;31mTypeError\u001b[0m                                 Traceback (most recent call last)",
      "Cell \u001b[0;32mIn [8], line 2\u001b[0m\n\u001b[1;32m      1\u001b[0m \u001b[38;5;66;03m#meas_time.iloc[:,1]\u001b[39;00m\n\u001b[0;32m----> 2\u001b[0m meas_dt \u001b[38;5;241m=\u001b[39m \u001b[43mdt\u001b[49m\u001b[38;5;241;43m.\u001b[39;49m\u001b[43mdatetime\u001b[49m\u001b[43m(\u001b[49m\u001b[43mmeas_time\u001b[49m\u001b[43m[\u001b[49m\u001b[38;5;241;43m2\u001b[39;49m\u001b[43m]\u001b[49m\u001b[43m,\u001b[49m\u001b[43mmeas_time\u001b[49m\u001b[43m[\u001b[49m\u001b[38;5;241;43m1\u001b[39;49m\u001b[43m]\u001b[49m\u001b[43m,\u001b[49m\u001b[43mmeas_time\u001b[49m\u001b[43m[\u001b[49m\u001b[38;5;241;43m0\u001b[39;49m\u001b[43m]\u001b[49m\u001b[43m,\u001b[49m\u001b[43mmeas_time\u001b[49m\u001b[43m[\u001b[49m\u001b[38;5;241;43m3\u001b[39;49m\u001b[43m]\u001b[49m\u001b[43m,\u001b[49m\u001b[43m \u001b[49m\u001b[43mmeas_time\u001b[49m\u001b[43m[\u001b[49m\u001b[38;5;241;43m4\u001b[39;49m\u001b[43m]\u001b[49m\u001b[43m,\u001b[49m\u001b[43m \u001b[49m\u001b[43mmeas_time\u001b[49m\u001b[43m[\u001b[49m\u001b[38;5;241;43m5\u001b[39;49m\u001b[43m]\u001b[49m\u001b[43m)\u001b[49m\n",
      "File \u001b[0;32m~/miniconda2/envs/mri/lib/python3.9/site-packages/pandas/core/series.py:206\u001b[0m, in \u001b[0;36m_coerce_method.<locals>.wrapper\u001b[0;34m(self)\u001b[0m\n\u001b[1;32m    204\u001b[0m \u001b[38;5;28;01mif\u001b[39;00m \u001b[38;5;28mlen\u001b[39m(\u001b[38;5;28mself\u001b[39m) \u001b[38;5;241m==\u001b[39m \u001b[38;5;241m1\u001b[39m:\n\u001b[1;32m    205\u001b[0m     \u001b[38;5;28;01mreturn\u001b[39;00m converter(\u001b[38;5;28mself\u001b[39m\u001b[38;5;241m.\u001b[39miloc[\u001b[38;5;241m0\u001b[39m])\n\u001b[0;32m--> 206\u001b[0m \u001b[38;5;28;01mraise\u001b[39;00m \u001b[38;5;167;01mTypeError\u001b[39;00m(\u001b[38;5;124mf\u001b[39m\u001b[38;5;124m\"\u001b[39m\u001b[38;5;124mcannot convert the series to \u001b[39m\u001b[38;5;132;01m{\u001b[39;00mconverter\u001b[38;5;132;01m}\u001b[39;00m\u001b[38;5;124m\"\u001b[39m)\n",
      "\u001b[0;31mTypeError\u001b[0m: cannot convert the series to <class 'int'>"
     ]
    }
   ],
   "source": [
    "#meas_time.iloc[:,1]\n",
    "meas_dt = dt.datetime(meas_time[2],meas_time[1],meas_time[0],meas_time[3], meas_time[4], meas_time[5])"
   ]
  },
  {
   "cell_type": "code",
   "execution_count": 9,
   "id": "e41209f4",
   "metadata": {},
   "outputs": [
    {
     "ename": "NameError",
     "evalue": "name 'meas_dt' is not defined",
     "output_type": "error",
     "traceback": [
      "\u001b[0;31m---------------------------------------------------------------------------\u001b[0m",
      "\u001b[0;31mNameError\u001b[0m                                 Traceback (most recent call last)",
      "Cell \u001b[0;32mIn [9], line 1\u001b[0m\n\u001b[0;32m----> 1\u001b[0m \u001b[43mmeas_dt\u001b[49m\n",
      "\u001b[0;31mNameError\u001b[0m: name 'meas_dt' is not defined"
     ]
    }
   ],
   "source": [
    "meas_dt"
   ]
  },
  {
   "cell_type": "code",
   "execution_count": 10,
   "id": "0f0a6fbd",
   "metadata": {},
   "outputs": [
    {
     "data": {
      "text/plain": [
       "<AxesSubplot: >"
      ]
     },
     "execution_count": 10,
     "metadata": {},
     "output_type": "execute_result"
    },
    {
     "data": {
      "image/png": "[encoded data removed]",
      "text/plain": [
       "<Figure size 640x480 with 1 Axes>"
      ]
     },
     "metadata": {},
     "output_type": "display_data"
    }
   ],
   "source": [
    "log7t['Pressure (mB)'].plot()"
   ]
  },
  {
   "cell_type": "code",
   "execution_count": 23,
   "id": "932a8d8c",
   "metadata": {},
   "outputs": [],
   "source": [
    "cryo_T = log7t[['Service Shield Link Top Temp 4ABb (K)',\\\n",
    "                      'Patient Shield Link Top Temp 3ABb (K)',\\\n",
    "                      'Service Endplate Temp 2AB (K)',\\\n",
    "                      'Patient Endplate Temp 1AB (K)',\\\n",
    "                      'Service Outer Tube Bottom Temp 2ABb (K)',\\\n",
    "                      'Service Coldhead 1st Stage Temp 6AB (K)',\\\n",
    "                      'Patient Coldhead 1st Stage Temp 5AB (K)' \\\n",
    "                     ]]"
   ]
  },
  {
   "cell_type": "code",
   "execution_count": 12,
   "id": "0405f5cc",
   "metadata": {},
   "outputs": [
    {
     "data": {
      "text/plain": [
       "Index(['Date & time', 'Helium Level (ltr)', 'Patient Cryocooler Status (H)',\n",
       "       'Pressure (mB)', 'Service Shield Link Top Temp 4ABb (K)',\n",
       "       'Service Recondensor Temp 11CX (K)',\n",
       "       'Service Coldhead 1st Stage Temp 6AB (K)',\n",
       "       'Service 1st Stage Temp 11AB (K)',\n",
       "       'Service Shield Link Bottom Temp 4AB (K)',\n",
       "       'Service Outer Tube Bottom Temp 2ABb (K)',\n",
       "       'Service Neck Plate Temp 8AB (K)', 'Service Endplate Temp 2AB (K)',\n",
       "       'Patient Shield Link Top Temp 3ABb (K)',\n",
       "       'Patient Recondensor Temp 9CX (K)',\n",
       "       'Patient Coldhead 1st Stage Temp 5AB (K)',\n",
       "       'Patient 1st Stage Temp 9AB (K)',\n",
       "       'Patient Shield Link Bottom Temp 3AB (K)',\n",
       "       'Patient Helium Can Bottom Temp 1ABb (K)',\n",
       "       'Patient Neck Plate Temp 7AB (K)', 'Patient Endplate Temp 1AB (K)',\n",
       "       'Service Cryocooler Status (I)', 'Patient Cryocooler Status (F)',\n",
       "       'Patient Cryocooler Status (G)', 'Heater Ratio (%)', 'Burst Disk',\n",
       "       'EDU Monitor Status'],\n",
       "      dtype='object')"
      ]
     },
     "execution_count": 12,
     "metadata": {},
     "output_type": "execute_result"
    }
   ],
   "source": []
  },
  {
   "cell_type": "code",
   "execution_count": 24,
   "id": "381d6690",
   "metadata": {},
   "outputs": [
    {
     "data": {
      "text/plain": [
       "<AxesSubplot: >"
      ]
     },
     "execution_count": 24,
     "metadata": {},
     "output_type": "execute_result"
    },
    {
     "data": {
      "image/png": "[encoded data removed]",
      "text/plain": [
       "<Figure size 640x480 with 1 Axes>"
      ]
     },
     "metadata": {},
     "output_type": "display_data"
    }
   ],
   "source": [
    "cryo_T.plot()"
   ]
  },
  {
   "cell_type": "code",
   "execution_count": null,
   "id": "b00ef200",
   "metadata": {},
   "outputs": [],
   "source": []
  }
 ],
 "metadata": {
  "kernelspec": {
   "display_name": "Python 3 (ipykernel)",
   "language": "python",
   "name": "python3"
  },
  "language_info": {
   "codemirror_mode": {
    "name": "ipython",
    "version": 3
   },
   "file_extension": ".py",
   "mimetype": "text/x-python",
   "name": "python",
   "nbconvert_exporter": "python",
   "pygments_lexer": "ipython3",
   "version": "3.9.13"
  }
 },
 "nbformat": 4,
 "nbformat_minor": 5
}
