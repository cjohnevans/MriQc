{
 "cells": [
  {
   "cell_type": "code",
   "execution_count": 15,
   "id": "e967cf17",
   "metadata": {},
   "outputs": [],
   "source": [
    "# import all signal to noise data from Siemens QA\n",
    "import os\n",
    "import matplotlib.pyplot as plt\n",
    "import datetime"
   ]
  },
  {
   "cell_type": "code",
   "execution_count": 35,
   "id": "f00b7325",
   "metadata": {},
   "outputs": [],
   "source": [
    "qa_dir = '/home/sapje1/data_sapje1/QC/siemensqc/7T/service_QA/2022_10_17/sitedb/log/QA/Coil/32Ch_Head_7T/SfpCoilCheckLocalCoils/'\n",
    "qa_logs_full = os.listdir(qa_dir)\n",
    "qa_logs = []\n",
    "for qa in qa_logs_full:\n",
    "    if 'log.htm' in qa:\n",
    "        qa_logs.append(qa)"
   ]
  },
  {
   "cell_type": "code",
   "execution_count": null,
   "id": "d0ba9d0f",
   "metadata": {},
   "outputs": [],
   "source": [
    "# print whole file\n",
    "qa_full_path = os.path.join(qa_dir, qa_logs[0])\n",
    "f_full = open(qa_full_path,'r')\n",
    "f_full.readlines()"
   ]
  },
  {
   "cell_type": "code",
   "execution_count": 36,
   "id": "67fa02d9",
   "metadata": {},
   "outputs": [
    {
     "name": "stdout",
     "output_type": "stream",
     "text": [
      "qa_2017-03-07-141906.log.htm 1 1 1\n",
      "qa_2022-09-20-161403.log.htm 2 2 2\n",
      "2022-09-20 00:00:00 405.7 1460.7\n",
      "qa_2017-10-11-105834.log.htm 3 3 3\n",
      "2017-10-11 00:00:00 449.2 1406.2\n",
      "qa_2017-04-11-102858.log.htm 4 4 4\n",
      "2017-04-11 00:00:00 468.8 1419.5\n",
      "qa_2017-10-09-150806.log.htm 5 5 5\n",
      "2017-10-09 00:00:00 442.0 1378.1\n",
      "qa_2018-10-05-081703.log.htm 6 6 6\n",
      "2018-10-05 00:00:00 505.4 1457.5\n",
      "qa_2020-05-20-135133.log.htm 7 7 7\n",
      "2020-05-20 00:00:00 478.3 1464.8\n",
      "qa_2018-12-05-165923.log.htm 8 8 8\n",
      "2018-12-05 00:00:00 519.2 1471.8\n",
      "qa_2018-10-05-082908.log.htm 9 9 9\n",
      "2018-10-05 00:00:00 482.8 1442.5\n",
      "qa_2017-10-09-140308.log.htm 10 10 10\n",
      "2017-10-09 00:00:00 484.1 1394.5\n",
      "qa_2017-10-09-095701.log.htm 11 11 11\n",
      "2017-10-09 00:00:00 265.3 1113.1\n",
      "qa_2017-10-09-135325.log.htm 12 12 12\n",
      "2017-10-09 00:00:00 359.8 1078.6\n",
      "qa_2017-10-09-145050.log.htm 13 13 13\n",
      "2017-10-09 00:00:00 259.4 1105.8\n",
      "qa_2019-12-11-172559.log.htm 14 14 14\n",
      "2019-12-11 00:00:00 487.5 1471.2\n",
      "qa_2017-10-09-143908.log.htm 15 15 15\n",
      "2017-10-09 00:00:00 215.4 1083.7\n",
      "qa_2017-10-09-143226.log.htm 16 16 16\n",
      "2017-10-09 00:00:00 461.9 1381.7\n",
      "qa_2019-04-30-085754.log.htm 17 17 17\n",
      "2019-04-30 00:00:00 505.0 1475.0\n",
      "qa_2019-10-02-090618.log.htm 18 18 18\n",
      "2019-10-02 00:00:00 447.6 1472.1\n",
      "qa_2017-03-16-112939.log.htm 19 19 19\n",
      "2017-03-16 00:00:00 479.6 1464.6\n",
      "qa_2018-12-05-165716.log.htm 20 20 20\n",
      "2018-12-05 00:00:00 488.5 1477.7\n",
      "qa_2018-10-05-081936.log.htm 21 21 21\n",
      "2018-10-05 00:00:00 500.7 1456.4\n",
      "qa_2017-10-09-100155.log.htm 22 22 22\n",
      "2017-10-09 00:00:00 279.1 1113.6\n",
      "qa_2015-12-21-104706.log.htm 23 23 23\n",
      "2015-12-21 00:00:00 429.3 1387.4\n",
      "qa_2017-10-05-145145.log.htm 24 24 24\n",
      "2017-10-05 00:00:00 288.3 1109.5\n",
      "qa_2018-12-05-170204.log.htm 25 25 25\n",
      "2018-12-05 00:00:00 497.4 1469.8\n",
      "qa_2017-10-03-111537.log.htm 26 26 26\n",
      "2017-10-03 00:00:00 406.6 1146.9\n",
      "qa_2016-07-29-110645.log.htm 27 27 27\n",
      "2016-07-29 00:00:00 487.8 1445.4\n",
      "qa_2019-06-21-124916.log.htm 28 28 28\n",
      "2019-06-21 00:00:00 487.3 1446.2\n",
      "qa_2017-10-09-095413.log.htm 29 29 29\n",
      "2017-10-09 00:00:00 233.6 1118.2\n",
      "29\n",
      "[450.4, 405.7, 449.2, 468.8, 442.0, 505.4, 478.3, 519.2, 482.8, 484.1, 265.3, 359.8, 259.4, 487.5, 215.4, 461.9, 505.0, 447.6, 479.6, 488.5, 500.7, 279.1, 429.3, 288.3, 497.4, 406.6, 487.8, 487.3, 233.6]\n",
      "29\n",
      "[datetime.datetime(2017, 3, 7, 0, 0), datetime.datetime(2022, 9, 20, 0, 0), datetime.datetime(2017, 10, 11, 0, 0), datetime.datetime(2017, 4, 11, 0, 0), datetime.datetime(2017, 10, 9, 0, 0), datetime.datetime(2018, 10, 5, 0, 0), datetime.datetime(2020, 5, 20, 0, 0), datetime.datetime(2018, 12, 5, 0, 0), datetime.datetime(2018, 10, 5, 0, 0), datetime.datetime(2017, 10, 9, 0, 0), datetime.datetime(2017, 10, 9, 0, 0), datetime.datetime(2017, 10, 9, 0, 0), datetime.datetime(2017, 10, 9, 0, 0), datetime.datetime(2019, 12, 11, 0, 0), datetime.datetime(2017, 10, 9, 0, 0), datetime.datetime(2017, 10, 9, 0, 0), datetime.datetime(2019, 4, 30, 0, 0), datetime.datetime(2019, 10, 2, 0, 0), datetime.datetime(2017, 3, 16, 0, 0), datetime.datetime(2018, 12, 5, 0, 0), datetime.datetime(2018, 10, 5, 0, 0), datetime.datetime(2017, 10, 9, 0, 0), datetime.datetime(2015, 12, 21, 0, 0), datetime.datetime(2017, 10, 5, 0, 0), datetime.datetime(2018, 12, 5, 0, 0), datetime.datetime(2017, 10, 3, 0, 0), datetime.datetime(2016, 7, 29, 0, 0), datetime.datetime(2019, 6, 21, 0, 0), datetime.datetime(2017, 10, 9, 0, 0)]\n"
     ]
    }
   ],
   "source": [
    "snr = []\n",
    "qa_date = []\n",
    "bright = []\n",
    "\n",
    "for qa_file in qa_logs:\n",
    "    qa_full_path = os.path.join(qa_dir, qa_file)\n",
    "    f = open(qa_full_path)\n",
    "    for line in f.readlines():\n",
    "        if '32Ch_Head_7T Coil Check' in line:\n",
    "            qa_date_temp = line.split('Check ')[1][0:10]\n",
    "            qa_date_temp = qa_date_temp.split('-')\n",
    "            qa_date.append(datetime.datetime(int(qa_date_temp[0]), int(qa_date_temp[1]), int(qa_date_temp[2])))\n",
    "            #print(qa_dat)\n",
    "        if 'S/N Ratio' in line:\n",
    "            #print(line)\n",
    "            snr.append(float(line.split('=')[1].split('[')[0].lstrip().rstrip()))\n",
    "            #print(snr)\n",
    "        if 'Brightness' in line:\n",
    "            #print(line)\n",
    "            bright.append(float(line.split('=')[1].split('[')[0].lstrip().rstrip()))\n",
    "            #print(bright)  \n",
    "    print(qa_file, len(qa_date), len(snr), len(bright))\n",
    "    if len(qa_date) > 1:\n",
    "        print(qa_date[-1], snr[-1], bright[-1])\n",
    "    f.close()\n",
    "    \n",
    "print(len(snr))\n",
    "print(snr)\n",
    "print(len(qa_date))\n",
    "print(qa_date)"
   ]
  },
  {
   "cell_type": "code",
   "execution_count": 39,
   "id": "b9de1a46",
   "metadata": {},
   "outputs": [
    {
     "data": {
      "text/plain": [
       "[<matplotlib.lines.Line2D at 0x7f22a9e1eee0>]"
      ]
     },
     "execution_count": 39,
     "metadata": {},
     "output_type": "execute_result"
    },
    {
     "data": {
      "image/png": "[encoded data removed]",
      "text/plain": [
       "<Figure size 432x288 with 1 Axes>"
      ]
     },
     "metadata": {
      "needs_background": "light"
     },
     "output_type": "display_data"
    }
   ],
   "source": [
    "plt.plot(qa_date,snr, 'o')"
   ]
  },
  {
   "cell_type": "code",
   "execution_count": null,
   "id": "9fd6821c",
   "metadata": {},
   "outputs": [],
   "source": []
  }
 ],
 "metadata": {
  "kernelspec": {
   "display_name": "Python 3 (ipykernel)",
   "language": "python",
   "name": "python3"
  },
  "language_info": {
   "codemirror_mode": {
    "name": "ipython",
    "version": 3
   },
   "file_extension": ".py",
   "mimetype": "text/x-python",
   "name": "python",
   "nbconvert_exporter": "python",
   "pygments_lexer": "ipython3",
   "version": "3.9.7"
  }
 },
 "nbformat": 4,
 "nbformat_minor": 5
}
