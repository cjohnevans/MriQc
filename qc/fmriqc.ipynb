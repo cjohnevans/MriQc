{
 "cells": [
  {
   "cell_type": "code",
   "execution_count": 1,
   "id": "315dba8d",
   "metadata": {},
   "outputs": [],
   "source": [
    "import sys\n",
    "sys.path.append('/home/sapje1/code/python_mrobjects/qc')\n",
    "import fmriqc"
   ]
  },
  {
   "cell_type": "code",
   "execution_count": 2,
   "id": "45515d2b",
   "metadata": {},
   "outputs": [],
   "source": [
    "alspac_fmri = fmriqc.fmriqc('aa','bb')"
   ]
  },
  {
   "cell_type": "code",
   "execution_count": 3,
   "id": "fb073ff6",
   "metadata": {},
   "outputs": [],
   "source": [
    "alspac_fmri.nii_load()"
   ]
  },
  {
   "cell_type": "code",
   "execution_count": 4,
   "id": "b793e6d2",
   "metadata": {},
   "outputs": [
    {
     "name": "stderr",
     "output_type": "stream",
     "text": [
      "/home/sapje1/code/python_mrobjects/qc/fmriqc.py:30: RuntimeWarning: invalid value encountered in divide\n",
      "  vol_sfnr = vol_mean / vol_stdev\n"
     ]
    }
   ],
   "source": [
    "alspac_fmri.calc_sfnr()"
   ]
  },
  {
   "cell_type": "code",
   "execution_count": null,
   "id": "36d001d1",
   "metadata": {},
   "outputs": [],
   "source": []
  }
 ],
 "metadata": {
  "kernelspec": {
   "display_name": "Python 3 (ipykernel)",
   "language": "python",
   "name": "python3"
  },
  "language_info": {
   "codemirror_mode": {
    "name": "ipython",
    "version": 3
   },
   "file_extension": ".py",
   "mimetype": "text/x-python",
   "name": "python",
   "nbconvert_exporter": "python",
   "pygments_lexer": "ipython3",
   "version": "3.9.13"
  }
 },
 "nbformat": 4,
 "nbformat_minor": 5
}
