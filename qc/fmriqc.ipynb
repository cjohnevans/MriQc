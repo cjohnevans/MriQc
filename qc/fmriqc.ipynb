{
 "cells": [
  {
   "cell_type": "code",
   "execution_count": 1,
   "id": "61091bef",
   "metadata": {},
   "outputs": [
    {
     "data": {
      "text/plain": [
       "'\\nTesting script for the development of fmriqc.py\\n'"
      ]
     },
     "execution_count": 1,
     "metadata": {},
     "output_type": "execute_result"
    }
   ],
   "source": [
    "'''\n",
    "Testing script for the development of fmriqc.py\n",
    "'''"
   ]
  },
  {
   "cell_type": "code",
   "execution_count": 2,
   "id": "403efa51",
   "metadata": {},
   "outputs": [],
   "source": [
    "import sys\n",
    "sys.path.append('/home/sapje1/code/python_mrobjects/qc')\n",
    "import mriqc\n",
    "import numpy as np\n",
    "import matplotlib.pyplot as plt"
   ]
  },
  {
   "cell_type": "code",
   "execution_count": 3,
   "id": "a240ac47",
   "metadata": {},
   "outputs": [],
   "source": [
    "nii_path = '/home/sapje1/scratch_sapje1/fmriqc/251_alspac/'\n",
    "nii_file = 'alspacfmri.nii'"
   ]
  },
  {
   "cell_type": "code",
   "execution_count": 4,
   "id": "46c2f090",
   "metadata": {},
   "outputs": [],
   "source": [
    "alspac_fmri = mriqc.fmriqc(nii_path,nii_file,True)"
   ]
  },
  {
   "cell_type": "code",
   "execution_count": 5,
   "id": "ccb50886",
   "metadata": {},
   "outputs": [
    {
     "data": {
      "text/plain": [
       "True"
      ]
     },
     "execution_count": 5,
     "metadata": {},
     "output_type": "execute_result"
    }
   ],
   "source": [
    "alspac_fmri.is_fmri"
   ]
  },
  {
   "cell_type": "code",
   "execution_count": 6,
   "id": "b3c7e342",
   "metadata": {},
   "outputs": [],
   "source": [
    "alspac_fmri.nii_load()"
   ]
  },
  {
   "cell_type": "code",
   "execution_count": null,
   "id": "809c5ccc",
   "metadata": {},
   "outputs": [],
   "source": [
    "alspac_fmri.calc_sfnr()"
   ]
  },
  {
   "cell_type": "code",
   "execution_count": null,
   "id": "77cb5917",
   "metadata": {},
   "outputs": [],
   "source": [
    "alspac_fmri.plot_histogram()"
   ]
  },
  {
   "cell_type": "code",
   "execution_count": null,
   "id": "780b8606",
   "metadata": {},
   "outputs": [],
   "source": [
    "dir(alspac_fmri)\n",
    "alspac_fmri.is_multi_volume"
   ]
  },
  {
   "cell_type": "code",
   "execution_count": null,
   "id": "cfb08b04",
   "metadata": {},
   "outputs": [],
   "source": [
    "mriqc.ortho_view(alspac_fmri.vol_mean)"
   ]
  },
  {
   "cell_type": "code",
   "execution_count": null,
   "id": "56fcd292",
   "metadata": {},
   "outputs": [],
   "source": [
    "alspac_fmri.vol_mean.shape"
   ]
  },
  {
   "cell_type": "code",
   "execution_count": null,
   "id": "a725d3fa",
   "metadata": {},
   "outputs": [],
   "source": [
    "fig, ax = plt.subplots(1,2)\n"
   ]
  },
  {
   "cell_type": "code",
   "execution_count": null,
   "id": "8ec309ca",
   "metadata": {},
   "outputs": [],
   "source": [
    "#matrixsize = alspac_fmri.vol_mean.shape\n",
    "matrixsize= (13, 14, 15)\n",
    "[int(np.floor(dirn/2)) for dirn in matrixsize]"
   ]
  },
  {
   "cell_type": "code",
   "execution_count": null,
   "id": "bfcf8670",
   "metadata": {},
   "outputs": [],
   "source": [
    "plt.imshow(np.reshape(alspac_fmri.vol_mean[:,:,20:41:10].T, (96*3, 96)).T)\n",
    "plt.colorbar()"
   ]
  },
  {
   "cell_type": "code",
   "execution_count": null,
   "id": "b8182bfc",
   "metadata": {},
   "outputs": [],
   "source": [
    "plt.imshow()"
   ]
  },
  {
   "cell_type": "code",
   "execution_count": null,
   "id": "9db802f7",
   "metadata": {},
   "outputs": [],
   "source": [
    "plt.imshow(np.reshape(alspac_fmri.vol_sfnr[:,20:41:10,:], (96, 2*96)).T)\n",
    "plt.colorbar()"
   ]
  },
  {
   "cell_type": "code",
   "execution_count": null,
   "id": "afd460f6",
   "metadata": {},
   "outputs": [],
   "source": [
    "# delete alspac_fmri and load ndau data"
   ]
  },
  {
   "cell_type": "code",
   "execution_count": null,
   "id": "dd5ec616",
   "metadata": {},
   "outputs": [],
   "source": [
    "del alspac_fmri"
   ]
  },
  {
   "cell_type": "code",
   "execution_count": null,
   "id": "9cd636b3",
   "metadata": {},
   "outputs": [],
   "source": [
    "nii_path = '/home/sapje1/scratch_sapje1/fmriqc/460_ndau/'\n",
    "nii_file = 'ndau.nii'"
   ]
  },
  {
   "cell_type": "code",
   "execution_count": null,
   "id": "cd0fc155",
   "metadata": {},
   "outputs": [],
   "source": [
    "ndau = fmriqc.fmriqc(nii_path,nii_file,True)"
   ]
  },
  {
   "cell_type": "code",
   "execution_count": null,
   "id": "8740ffba",
   "metadata": {},
   "outputs": [],
   "source": [
    "ndau.nii_load()"
   ]
  },
  {
   "cell_type": "code",
   "execution_count": null,
   "id": "edec5c80",
   "metadata": {},
   "outputs": [],
   "source": [
    "ndau.calc_sfnr()"
   ]
  },
  {
   "cell_type": "code",
   "execution_count": null,
   "id": "b5127461",
   "metadata": {},
   "outputs": [],
   "source": [
    "ndau.plot_histogram()"
   ]
  },
  {
   "cell_type": "code",
   "execution_count": null,
   "id": "40ff92d3",
   "metadata": {},
   "outputs": [],
   "source": [
    "5000/19200"
   ]
  },
  {
   "cell_type": "code",
   "execution_count": null,
   "id": "55a5c6cf",
   "metadata": {},
   "outputs": [],
   "source": []
  }
 ],
 "metadata": {
  "kernelspec": {
   "display_name": "Python 3 (ipykernel)",
   "language": "python",
   "name": "python3"
  },
  "language_info": {
   "codemirror_mode": {
    "name": "ipython",
    "version": 3
   },
   "file_extension": ".py",
   "mimetype": "text/x-python",
   "name": "python",
   "nbconvert_exporter": "python",
   "pygments_lexer": "ipython3",
   "version": "3.9.13"
  }
 },
 "nbformat": 4,
 "nbformat_minor": 5
}
