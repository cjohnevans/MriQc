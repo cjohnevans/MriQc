{
 "cells": [
  {
   "cell_type": "code",
   "execution_count": 1,
   "id": "61091bef",
   "metadata": {},
   "outputs": [
    {
     "data": {
      "text/plain": [
       "'\\nTesting script for the development of fmriqc.py\\n'"
      ]
     },
     "execution_count": 1,
     "metadata": {},
     "output_type": "execute_result"
    }
   ],
   "source": [
    "'''\n",
    "Testing script for the development of fmriqc.py\n",
    "'''"
   ]
  },
  {
   "cell_type": "code",
   "execution_count": 2,
   "id": "403efa51",
   "metadata": {},
   "outputs": [
    {
     "ename": "SyntaxError",
     "evalue": "cannot assign to function call (mriqc.py, line 86)",
     "output_type": "error",
     "traceback": [
      "Traceback \u001b[0;36m(most recent call last)\u001b[0m:\n",
      "\u001b[0m  File \u001b[1;32m~/miniconda2/envs/mri/lib/python3.9/site-packages/IPython/core/interactiveshell.py:3433\u001b[0m in \u001b[1;35mrun_code\u001b[0m\n    exec(code_obj, self.user_global_ns, self.user_ns)\u001b[0m\n",
      "\u001b[0;36m  Cell \u001b[0;32mIn [2], line 3\u001b[0;36m\n\u001b[0;31m    import mriqc\u001b[0;36m\n",
      "\u001b[0;36m  File \u001b[0;32m~/code/python_mrobjects/qc/mriqc.py:86\u001b[0;36m\u001b[0m\n\u001b[0;31m    with f as open(html_fname, 'w'):\u001b[0m\n\u001b[0m              ^\u001b[0m\n\u001b[0;31mSyntaxError\u001b[0m\u001b[0;31m:\u001b[0m cannot assign to function call\n"
     ]
    }
   ],
   "source": [
    "import sys\n",
    "sys.path.append('/home/sapje1/code/python_mrobjects/qc')\n",
    "import mriqc\n",
    "import numpy as np\n",
    "import matplotlib.pyplot as plt"
   ]
  },
  {
   "cell_type": "code",
   "execution_count": null,
   "id": "a240ac47",
   "metadata": {},
   "outputs": [],
   "source": [
    "nii_path = '/home/sapje1/scratch_sapje1/fmriqc/251_alspac/'\n",
    "nii_file = 'alspacfmri.nii'"
   ]
  },
  {
   "cell_type": "code",
   "execution_count": null,
   "id": "46c2f090",
   "metadata": {},
   "outputs": [],
   "source": [
    "alspac_fmri = mriqc.fmriqc(nii_path,nii_file,True)"
   ]
  },
  {
   "cell_type": "code",
   "execution_count": null,
   "id": "8e13a5bf",
   "metadata": {},
   "outputs": [],
   "source": [
    "alspac_fmri.is_fmri"
   ]
  },
  {
   "cell_type": "code",
   "execution_count": null,
   "id": "b3c7e342",
   "metadata": {},
   "outputs": [],
   "source": [
    "alspac_fmri.nii_load()"
   ]
  },
  {
   "cell_type": "code",
   "execution_count": null,
   "id": "809c5ccc",
   "metadata": {},
   "outputs": [],
   "source": [
    "alspac_fmri.calc_sfnr()"
   ]
  },
  {
   "cell_type": "code",
   "execution_count": null,
   "id": "77cb5917",
   "metadata": {},
   "outputs": [],
   "source": [
    "mriqc.plot_histogram(alspac_fmri.vol_data,False)"
   ]
  },
  {
   "cell_type": "code",
   "execution_count": null,
   "id": "780b8606",
   "metadata": {},
   "outputs": [],
   "source": [
    "dir(alspac_fmri)\n",
    "alspac_fmri.is_multi_volume"
   ]
  },
  {
   "cell_type": "code",
   "execution_count": null,
   "id": "9e30946a",
   "metadata": {},
   "outputs": [],
   "source": [
    "mriqc.ortho_view(alspac_fmri.vol_mean, 'Mean Volume')"
   ]
  },
  {
   "cell_type": "code",
   "execution_count": null,
   "id": "57c505b3",
   "metadata": {},
   "outputs": [],
   "source": [
    "alspac_fmri.vol_mean.shape"
   ]
  },
  {
   "cell_type": "code",
   "execution_count": null,
   "id": "9cd636b3",
   "metadata": {},
   "outputs": [],
   "source": [
    "nii_path = '/home/sapje1/scratch_sapje1/fmriqc/460_ndau/'\n",
    "nii_file = 'ndau.nii'"
   ]
  },
  {
   "cell_type": "code",
   "execution_count": null,
   "id": "edec5c80",
   "metadata": {},
   "outputs": [],
   "source": [
    "ndau = mriqc.fmriqc(nii_path,nii_file,True)\n",
    "ndau.nii_load()\n",
    "ndau.calc_sfnr()"
   ]
  },
  {
   "cell_type": "code",
   "execution_count": null,
   "id": "a330cac3",
   "metadata": {},
   "outputs": [],
   "source": [
    "mriqc.ortho_view(ndau.vol_stdev,'stdev')"
   ]
  },
  {
   "cell_type": "code",
   "execution_count": null,
   "id": "7a9f7bb9",
   "metadata": {},
   "outputs": [],
   "source": [
    "mriqc.ortho_view(ndau.vol_mean,'mean')"
   ]
  },
  {
   "cell_type": "code",
   "execution_count": null,
   "id": "40ff92d3",
   "metadata": {},
   "outputs": [],
   "source": [
    "mriqc.plot_histogram(ndau.vol_data,False)"
   ]
  },
  {
   "cell_type": "code",
   "execution_count": null,
   "id": "d75d7e0b",
   "metadata": {},
   "outputs": [],
   "source": [
    "mriqc.plot_histogram(ndau.vol_stdev, False)"
   ]
  },
  {
   "cell_type": "code",
   "execution_count": null,
   "id": "923ff6c0",
   "metadata": {},
   "outputs": [],
   "source": [
    "nii_path = '/home/sapje1/scratch_sapje1/qc/temp/3TE_20_03_16-14_15_48'\n",
    "nii_file = '20200316_141621GloverGSQAPs003a001.nii'"
   ]
  },
  {
   "cell_type": "code",
   "execution_count": null,
   "id": "c0eb3fe7",
   "metadata": {},
   "outputs": [],
   "source": [
    "qc3te = mriqc.fmriqc(nii_path, nii_file, False)\n",
    "qc3te.nii_load()\n",
    "qc3te.calc_sfnr()"
   ]
  },
  {
   "cell_type": "code",
   "execution_count": null,
   "id": "714c7aa1",
   "metadata": {},
   "outputs": [],
   "source": [
    "mriqc.plot_histogram(qc3te.vol_sfnr, False)"
   ]
  },
  {
   "cell_type": "code",
   "execution_count": null,
   "id": "5bc2dc4d",
   "metadata": {},
   "outputs": [],
   "source": [
    "alspac_fmri.vol_mean.shape"
   ]
  },
  {
   "cell_type": "code",
   "execution_count": null,
   "id": "31acb12a",
   "metadata": {},
   "outputs": [],
   "source": [
    "centresl = alspac_fmri.vol_mean[30:38:2,:,:]\n",
    "centresl.shape\n",
    "plt.imshow(np.reshape(centresl, [96*4,96]), origin='lower', cmap='gray')"
   ]
  },
  {
   "cell_type": "code",
   "execution_count": null,
   "id": "527f762a",
   "metadata": {},
   "outputs": [],
   "source": [
    "fig = plt.figure(figsize=(30/2.56, 20/2.56) )\n",
    "ax = fig.subplots()\n",
    "img = ax.imshow(alspac_fmri.vol_mean[32,:,:], origin='lower', cmap='gray')\n",
    "ax.set_xticks([])\n",
    "ax.set_yticks([])\n",
    "fig.colorbar(img)"
   ]
  },
  {
   "cell_type": "code",
   "execution_count": null,
   "id": "af4182f5",
   "metadata": {},
   "outputs": [],
   "source": [
    "fig = plt.figure()"
   ]
  },
  {
   "cell_type": "code",
   "execution_count": null,
   "id": "43efcdd6",
   "metadata": {},
   "outputs": [],
   "source": [
    "ax = fig.subplots(2,2)"
   ]
  },
  {
   "cell_type": "code",
   "execution_count": null,
   "id": "153eca95",
   "metadata": {},
   "outputs": [],
   "source": [
    "print(ax)"
   ]
  },
  {
   "cell_type": "code",
   "execution_count": null,
   "id": "29320fe5",
   "metadata": {},
   "outputs": [],
   "source": [
    "ax.shape"
   ]
  },
  {
   "cell_type": "code",
   "execution_count": null,
   "id": "6f725286",
   "metadata": {},
   "outputs": [],
   "source": [
    "ax[0,1]"
   ]
  },
  {
   "cell_type": "code",
   "execution_count": null,
   "id": "9d048ec5",
   "metadata": {},
   "outputs": [],
   "source": [
    "!pwd"
   ]
  },
  {
   "cell_type": "code",
   "execution_count": null,
   "id": "aa3c4e52",
   "metadata": {},
   "outputs": [],
   "source": [
    "f = open('test.html', 'w')"
   ]
  },
  {
   "cell_type": "code",
   "execution_count": null,
   "id": "05b12a42",
   "metadata": {},
   "outputs": [],
   "source": [
    "f.write('<!doctype=html><title>fMRI QC</title><body><p>Hello</p></body>')"
   ]
  },
  {
   "cell_type": "code",
   "execution_count": null,
   "id": "83797009",
   "metadata": {},
   "outputs": [],
   "source": [
    "f.close()"
   ]
  },
  {
   "cell_type": "code",
   "execution_count": null,
   "id": "f3a64958",
   "metadata": {},
   "outputs": [],
   "source": []
  }
 ],
 "metadata": {
  "kernelspec": {
   "display_name": "Python 3 (ipykernel)",
   "language": "python",
   "name": "python3"
  },
  "language_info": {
   "codemirror_mode": {
    "name": "ipython",
    "version": 3
   },
   "file_extension": ".py",
   "mimetype": "text/x-python",
   "name": "python",
   "nbconvert_exporter": "python",
   "pygments_lexer": "ipython3",
   "version": "3.9.13"
  }
 },
 "nbformat": 4,
 "nbformat_minor": 5
}
