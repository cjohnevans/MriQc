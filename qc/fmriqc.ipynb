{
 "cells": [
  {
   "cell_type": "code",
   "execution_count": 1,
   "id": "61091bef",
   "metadata": {},
   "outputs": [
    {
     "data": {
      "text/plain": [
       "'\\nTesting script for the development of fmriqc.py\\n'"
      ]
     },
     "execution_count": 1,
     "metadata": {},
     "output_type": "execute_result"
    }
   ],
   "source": [
    "'''\n",
    "Testing script for the development of fmriqc.py\n",
    "'''"
   ]
  },
  {
   "cell_type": "code",
   "execution_count": 2,
   "id": "403efa51",
   "metadata": {},
   "outputs": [],
   "source": [
    "import sys\n",
    "sys.path.append('/home/sapje1/code/python_mrobjects/qc')\n",
    "import mriqc\n",
    "import numpy as np\n",
    "import matplotlib.pyplot as plt"
   ]
  },
  {
   "cell_type": "code",
   "execution_count": 3,
   "id": "a240ac47",
   "metadata": {},
   "outputs": [],
   "source": [
    "nii_path = '/home/sapje1/scratch_sapje1/fmriqc/251_alspac/'\n",
    "nii_file = 'alspacfmri.nii'"
   ]
  },
  {
   "cell_type": "code",
   "execution_count": 4,
   "id": "46c2f090",
   "metadata": {},
   "outputs": [],
   "source": [
    "alspac_fmri = mriqc.fmriqc(nii_path,nii_file,True)"
   ]
  },
  {
   "cell_type": "code",
   "execution_count": 5,
   "id": "db5fcdad",
   "metadata": {},
   "outputs": [
    {
     "data": {
      "text/plain": [
       "True"
      ]
     },
     "execution_count": 5,
     "metadata": {},
     "output_type": "execute_result"
    }
   ],
   "source": [
    "alspac_fmri.is_fmri"
   ]
  },
  {
   "cell_type": "code",
   "execution_count": 6,
   "id": "b3c7e342",
   "metadata": {},
   "outputs": [],
   "source": [
    "alspac_fmri.nii_load()"
   ]
  },
  {
   "cell_type": "code",
   "execution_count": 7,
   "id": "809c5ccc",
   "metadata": {},
   "outputs": [],
   "source": [
    "alspac_fmri.calc_sfnr()"
   ]
  },
  {
   "cell_type": "code",
   "execution_count": 8,
   "id": "77cb5917",
   "metadata": {},
   "outputs": [
    {
     "data": {
      "image/png": "[encoded data removed]",
      "text/plain": [
       "<Figure size 640x480 with 1 Axes>"
      ]
     },
     "metadata": {},
     "output_type": "display_data"
    }
   ],
   "source": [
    "alspac_fmri.plot_histogram()"
   ]
  },
  {
   "cell_type": "code",
   "execution_count": 9,
   "id": "780b8606",
   "metadata": {},
   "outputs": [
    {
     "data": {
      "text/plain": [
       "True"
      ]
     },
     "execution_count": 9,
     "metadata": {},
     "output_type": "execute_result"
    }
   ],
   "source": [
    "dir(alspac_fmri)\n",
    "alspac_fmri.is_multi_volume"
   ]
  },
  {
   "cell_type": "code",
   "execution_count": 10,
   "id": "bfb87acf",
   "metadata": {},
   "outputs": [
    {
     "ename": "TypeError",
     "evalue": "int() argument must be a string, a bytes-like object or a number, not 'generator'",
     "output_type": "error",
     "traceback": [
      "\u001b[0;31m---------------------------------------------------------------------------\u001b[0m",
      "\u001b[0;31mTypeError\u001b[0m                                 Traceback (most recent call last)",
      "Cell \u001b[0;32mIn [10], line 1\u001b[0m\n\u001b[0;32m----> 1\u001b[0m \u001b[43mmriqc\u001b[49m\u001b[38;5;241;43m.\u001b[39;49m\u001b[43mortho_view\u001b[49m\u001b[43m(\u001b[49m\u001b[43malspac_fmri\u001b[49m\u001b[38;5;241;43m.\u001b[39;49m\u001b[43mvol_mean\u001b[49m\u001b[43m)\u001b[49m\n",
      "File \u001b[0;32m~/code/python_mrobjects/qc/mriqc.py:138\u001b[0m, in \u001b[0;36mortho_view\u001b[0;34m(vol)\u001b[0m\n\u001b[1;32m    135\u001b[0m     \u001b[38;5;28;01mreturn\u001b[39;00m\n\u001b[1;32m    137\u001b[0m vol_shape \u001b[38;5;241m=\u001b[39m vol\u001b[38;5;241m.\u001b[39mshape\n\u001b[0;32m--> 138\u001b[0m mid_slice \u001b[38;5;241m=\u001b[39m [\u001b[38;5;28;43mint\u001b[39;49m\u001b[43m(\u001b[49m\u001b[43mnp\u001b[49m\u001b[38;5;241;43m.\u001b[39;49m\u001b[43mfloor\u001b[49m\u001b[43m(\u001b[49m\u001b[43mdim_len\u001b[49m\u001b[38;5;241;43m/\u001b[39;49m\u001b[38;5;241;43m2\u001b[39;49m\u001b[43m)\u001b[49m\u001b[43m \u001b[49m\u001b[38;5;28;43;01mfor\u001b[39;49;00m\u001b[43m \u001b[49m\u001b[43mdim_len\u001b[49m\u001b[43m \u001b[49m\u001b[38;5;129;43;01min\u001b[39;49;00m\u001b[43m \u001b[49m\u001b[43mvol_shape\u001b[49m\u001b[43m)\u001b[49m]\n\u001b[1;32m    139\u001b[0m \u001b[38;5;28;01mreturn\u001b[39;00m mid_slice\n",
      "\u001b[0;31mTypeError\u001b[0m: int() argument must be a string, a bytes-like object or a number, not 'generator'"
     ]
    }
   ],
   "source": [
    "mriqc.ortho_view(alspac_fmri.vol_mean)"
   ]
  },
  {
   "cell_type": "code",
   "execution_count": null,
   "id": "5c97ddbf",
   "metadata": {},
   "outputs": [],
   "source": [
    "alspac_fmri.vol_mean.shape"
   ]
  },
  {
   "cell_type": "code",
   "execution_count": null,
   "id": "3431480d",
   "metadata": {},
   "outputs": [],
   "source": [
    "#matrixsize = alspac_fmri.vol_mean.shape\n",
    "matrixsize= (13, 14, 15)\n",
    "[int(np.floor(dirn/2)) for dirn in matrixsize]"
   ]
  },
  {
   "cell_type": "code",
   "execution_count": null,
   "id": "bfcf8670",
   "metadata": {},
   "outputs": [],
   "source": [
    "plt.imshow(np.reshape(alspac_fmri.vol_mean[:,:,20:41:10].T, (96*3, 96)).T)\n",
    "plt.colorbar()"
   ]
  },
  {
   "cell_type": "code",
   "execution_count": null,
   "id": "b8182bfc",
   "metadata": {},
   "outputs": [],
   "source": [
    "plt.imshow()"
   ]
  },
  {
   "cell_type": "code",
   "execution_count": null,
   "id": "9db802f7",
   "metadata": {},
   "outputs": [],
   "source": [
    "plt.imshow(np.reshape(alspac_fmri.vol_sfnr[:,20:41:10,:], (96, 2*96)).T)\n",
    "plt.colorbar()"
   ]
  },
  {
   "cell_type": "code",
   "execution_count": null,
   "id": "afd460f6",
   "metadata": {},
   "outputs": [],
   "source": [
    "# delete alspac_fmri and load ndau data"
   ]
  },
  {
   "cell_type": "code",
   "execution_count": null,
   "id": "dd5ec616",
   "metadata": {},
   "outputs": [],
   "source": [
    "del alspac_fmri"
   ]
  },
  {
   "cell_type": "code",
   "execution_count": null,
   "id": "9cd636b3",
   "metadata": {},
   "outputs": [],
   "source": [
    "nii_path = '/home/sapje1/scratch_sapje1/fmriqc/460_ndau/'\n",
    "nii_file = 'ndau.nii'"
   ]
  },
  {
   "cell_type": "code",
   "execution_count": null,
   "id": "cd0fc155",
   "metadata": {},
   "outputs": [],
   "source": [
    "ndau = fmriqc.fmriqc(nii_path,nii_file,True)"
   ]
  },
  {
   "cell_type": "code",
   "execution_count": null,
   "id": "8740ffba",
   "metadata": {},
   "outputs": [],
   "source": [
    "ndau.nii_load()"
   ]
  },
  {
   "cell_type": "code",
   "execution_count": null,
   "id": "edec5c80",
   "metadata": {},
   "outputs": [],
   "source": [
    "ndau.calc_sfnr()"
   ]
  },
  {
   "cell_type": "code",
   "execution_count": null,
   "id": "b5127461",
   "metadata": {},
   "outputs": [],
   "source": [
    "ndau.plot_histogram()"
   ]
  },
  {
   "cell_type": "code",
   "execution_count": null,
   "id": "40ff92d3",
   "metadata": {},
   "outputs": [],
   "source": [
    "5000/19200"
   ]
  },
  {
   "cell_type": "code",
   "execution_count": null,
   "id": "55a5c6cf",
   "metadata": {},
   "outputs": [],
   "source": []
  }
 ],
 "metadata": {
  "kernelspec": {
   "display_name": "Python 3 (ipykernel)",
   "language": "python",
   "name": "python3"
  },
  "language_info": {
   "codemirror_mode": {
    "name": "ipython",
    "version": 3
   },
   "file_extension": ".py",
   "mimetype": "text/x-python",
   "name": "python",
   "nbconvert_exporter": "python",
   "pygments_lexer": "ipython3",
   "version": "3.9.13"
  }
 },
 "nbformat": 4,
 "nbformat_minor": 5
}
